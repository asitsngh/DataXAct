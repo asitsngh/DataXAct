{
 "cells": [
  {
   "cell_type": "code",
   "execution_count": 1,
   "id": "106d83b3",
   "metadata": {},
   "outputs": [],
   "source": [
    "import numpy as np\n",
    "import pandas as pd\n",
    "import matplotlib.pyplot as plt\n",
    "from scipy import stats\n",
    "import seaborn as sns\n",
    "from sklearn.ensemble import RandomForestRegressor\n",
    "from sklearn.linear_model import LinearRegression\n",
    "from sklearn.model_selection import train_test_split\n",
    "from sklearn.model_selection import cross_val_score\n",
    "from sklearn.model_selection import cross_val_predict\n",
    "from sklearn.metrics import mean_squared_error as mse"
   ]
  },
  {
   "cell_type": "code",
   "execution_count": 2,
   "id": "90486017",
   "metadata": {},
   "outputs": [],
   "source": [
    "df1=pd.read_csv(r\"C:\\Users\\Asit Singh\\OneDrive\\Documents\\CS\\ML\\event datasets\\event datasets\\Book(i4).csv\")\n",
    "df2=pd.read_csv(r\"C:\\Users\\Asit Singh\\OneDrive\\Documents\\CS\\ML\\event datasets\\event datasets\\Book(i48).csv\")\n",
    "df3=pd.read_csv(r\"C:\\Users\\Asit Singh\\OneDrive\\Documents\\CS\\ML\\event datasets\\event datasets\\Book1.csv\")\n",
    "df4=pd.read_csv(r\"C:\\Users\\Asit Singh\\OneDrive\\Documents\\CS\\ML\\event datasets\\event datasets\\Book3.csv\")\n",
    "df5=pd.read_csv(r\"C:\\Users\\Asit Singh\\OneDrive\\Documents\\CS\\ML\\event datasets\\event datasets\\Book5.csv\")"
   ]
  },
  {
   "cell_type": "code",
   "execution_count": 3,
   "id": "0fe49273",
   "metadata": {},
   "outputs": [
    {
     "data": {
      "text/html": [
       "<div>\n",
       "<style scoped>\n",
       "    .dataframe tbody tr th:only-of-type {\n",
       "        vertical-align: middle;\n",
       "    }\n",
       "\n",
       "    .dataframe tbody tr th {\n",
       "        vertical-align: top;\n",
       "    }\n",
       "\n",
       "    .dataframe thead th {\n",
       "        text-align: right;\n",
       "    }\n",
       "</style>\n",
       "<table border=\"1\" class=\"dataframe\">\n",
       "  <thead>\n",
       "    <tr style=\"text-align: right;\">\n",
       "      <th></th>\n",
       "      <th>Time (s)</th>\n",
       "      <th>CO (ppm)</th>\n",
       "      <th>Humidity (%r.h.)</th>\n",
       "      <th>Temperature (C)</th>\n",
       "      <th>Flow rate (mL/min)</th>\n",
       "      <th>Heater voltage (V)</th>\n",
       "      <th>R1 (MOhm)</th>\n",
       "      <th>R2 (MOhm)</th>\n",
       "      <th>R3 (MOhm)</th>\n",
       "      <th>R4 (MOhm)</th>\n",
       "      <th>R9 (MOhm)</th>\n",
       "      <th>R10 (MOhm)</th>\n",
       "      <th>R11 (MOhm)</th>\n",
       "      <th>R12 (MOhm)</th>\n",
       "    </tr>\n",
       "  </thead>\n",
       "  <tbody>\n",
       "    <tr>\n",
       "      <th>0</th>\n",
       "      <td>0.000</td>\n",
       "      <td>0.0</td>\n",
       "      <td>49.7534</td>\n",
       "      <td>23.7184</td>\n",
       "      <td>233.2737</td>\n",
       "      <td>0.8993</td>\n",
       "      <td>NaN</td>\n",
       "      <td>NaN</td>\n",
       "      <td>1.1493</td>\n",
       "      <td>NaN</td>\n",
       "      <td>NaN</td>\n",
       "      <td>1.9148</td>\n",
       "      <td>3.4651</td>\n",
       "      <td>5.2144</td>\n",
       "    </tr>\n",
       "    <tr>\n",
       "      <th>1</th>\n",
       "      <td>0.309</td>\n",
       "      <td>0.0</td>\n",
       "      <td>55.8400</td>\n",
       "      <td>26.6200</td>\n",
       "      <td>241.6323</td>\n",
       "      <td>0.2112</td>\n",
       "      <td>2.1314</td>\n",
       "      <td>5.3552</td>\n",
       "      <td>9.7569</td>\n",
       "      <td>6.3188</td>\n",
       "      <td>16.1902</td>\n",
       "      <td>24.2780</td>\n",
       "      <td>31.1014</td>\n",
       "      <td>34.7193</td>\n",
       "    </tr>\n",
       "    <tr>\n",
       "      <th>2</th>\n",
       "      <td>0.618</td>\n",
       "      <td>0.0</td>\n",
       "      <td>55.8400</td>\n",
       "      <td>26.6200</td>\n",
       "      <td>241.3888</td>\n",
       "      <td>0.2070</td>\n",
       "      <td>10.5318</td>\n",
       "      <td>22.5612</td>\n",
       "      <td>37.2635</td>\n",
       "      <td>17.7848</td>\n",
       "      <td>31.7533</td>\n",
       "      <td>57.7289</td>\n",
       "      <td>53.6275</td>\n",
       "      <td>56.9212</td>\n",
       "    </tr>\n",
       "    <tr>\n",
       "      <th>3</th>\n",
       "      <td>0.926</td>\n",
       "      <td>0.0</td>\n",
       "      <td>55.8400</td>\n",
       "      <td>26.6200</td>\n",
       "      <td>241.1461</td>\n",
       "      <td>0.2042</td>\n",
       "      <td>29.5749</td>\n",
       "      <td>NaN</td>\n",
       "      <td>NaN</td>\n",
       "      <td>NaN</td>\n",
       "      <td>NaN</td>\n",
       "      <td>66.0832</td>\n",
       "      <td>66.8349</td>\n",
       "      <td>NaN</td>\n",
       "    </tr>\n",
       "    <tr>\n",
       "      <th>4</th>\n",
       "      <td>1.234</td>\n",
       "      <td>0.0</td>\n",
       "      <td>NaN</td>\n",
       "      <td>NaN</td>\n",
       "      <td>NaN</td>\n",
       "      <td>0.2030</td>\n",
       "      <td>49.5111</td>\n",
       "      <td>67.0368</td>\n",
       "      <td>77.8317</td>\n",
       "      <td>27.9625</td>\n",
       "      <td>NaN</td>\n",
       "      <td>68.1441</td>\n",
       "      <td>62.0947</td>\n",
       "      <td>49.4614</td>\n",
       "    </tr>\n",
       "  </tbody>\n",
       "</table>\n",
       "</div>"
      ],
      "text/plain": [
       "   Time (s)  CO (ppm)  Humidity (%r.h.)  Temperature (C)  Flow rate (mL/min)  \\\n",
       "0     0.000       0.0           49.7534          23.7184            233.2737   \n",
       "1     0.309       0.0           55.8400          26.6200            241.6323   \n",
       "2     0.618       0.0           55.8400          26.6200            241.3888   \n",
       "3     0.926       0.0           55.8400          26.6200            241.1461   \n",
       "4     1.234       0.0               NaN              NaN                 NaN   \n",
       "\n",
       "   Heater voltage (V)  R1 (MOhm)  R2 (MOhm)  R3 (MOhm)  R4 (MOhm)  R9 (MOhm)  \\\n",
       "0              0.8993        NaN        NaN     1.1493        NaN        NaN   \n",
       "1              0.2112     2.1314     5.3552     9.7569     6.3188    16.1902   \n",
       "2              0.2070    10.5318    22.5612    37.2635    17.7848    31.7533   \n",
       "3              0.2042    29.5749        NaN        NaN        NaN        NaN   \n",
       "4              0.2030    49.5111    67.0368    77.8317    27.9625        NaN   \n",
       "\n",
       "   R10 (MOhm)  R11 (MOhm)  R12 (MOhm)  \n",
       "0      1.9148      3.4651      5.2144  \n",
       "1     24.2780     31.1014     34.7193  \n",
       "2     57.7289     53.6275     56.9212  \n",
       "3     66.0832     66.8349         NaN  \n",
       "4     68.1441     62.0947     49.4614  "
      ]
     },
     "execution_count": 3,
     "metadata": {},
     "output_type": "execute_result"
    }
   ],
   "source": [
    "frames=[df1,df2,df4]\n",
    "df=pd.concat(frames,axis=1)\n",
    "df.head()"
   ]
  },
  {
   "cell_type": "code",
   "execution_count": 4,
   "id": "e6e8888b",
   "metadata": {},
   "outputs": [],
   "source": [
    "df.dropna(subset=[\"CO (ppm)\"],inplace=True)"
   ]
  },
  {
   "cell_type": "code",
   "execution_count": 5,
   "id": "6fa8052c",
   "metadata": {},
   "outputs": [
    {
     "data": {
      "text/plain": [
       "(295719, 14)"
      ]
     },
     "execution_count": 5,
     "metadata": {},
     "output_type": "execute_result"
    }
   ],
   "source": [
    "df.shape"
   ]
  },
  {
   "cell_type": "code",
   "execution_count": 6,
   "id": "2af9ebcd",
   "metadata": {},
   "outputs": [],
   "source": [
    "y=df[\"CO (ppm)\"]\n",
    "temp=df\n",
    "x=temp.drop([\"CO (ppm)\"],axis=1)"
   ]
  },
  {
   "cell_type": "code",
   "execution_count": 7,
   "id": "c563318d",
   "metadata": {},
   "outputs": [
    {
     "data": {
      "text/plain": [
       "0    0.0\n",
       "1    0.0\n",
       "2    0.0\n",
       "3    0.0\n",
       "4    0.0\n",
       "Name: CO (ppm), dtype: float64"
      ]
     },
     "execution_count": 7,
     "metadata": {},
     "output_type": "execute_result"
    }
   ],
   "source": [
    "y.head()"
   ]
  },
  {
   "cell_type": "code",
   "execution_count": 8,
   "id": "7b3324ec",
   "metadata": {},
   "outputs": [
    {
     "data": {
      "text/html": [
       "<div>\n",
       "<style scoped>\n",
       "    .dataframe tbody tr th:only-of-type {\n",
       "        vertical-align: middle;\n",
       "    }\n",
       "\n",
       "    .dataframe tbody tr th {\n",
       "        vertical-align: top;\n",
       "    }\n",
       "\n",
       "    .dataframe thead th {\n",
       "        text-align: right;\n",
       "    }\n",
       "</style>\n",
       "<table border=\"1\" class=\"dataframe\">\n",
       "  <thead>\n",
       "    <tr style=\"text-align: right;\">\n",
       "      <th></th>\n",
       "      <th>Time (s)</th>\n",
       "      <th>Humidity (%r.h.)</th>\n",
       "      <th>Temperature (C)</th>\n",
       "      <th>Flow rate (mL/min)</th>\n",
       "      <th>Heater voltage (V)</th>\n",
       "      <th>R1 (MOhm)</th>\n",
       "      <th>R2 (MOhm)</th>\n",
       "      <th>R3 (MOhm)</th>\n",
       "      <th>R4 (MOhm)</th>\n",
       "      <th>R9 (MOhm)</th>\n",
       "      <th>R10 (MOhm)</th>\n",
       "      <th>R11 (MOhm)</th>\n",
       "      <th>R12 (MOhm)</th>\n",
       "    </tr>\n",
       "  </thead>\n",
       "  <tbody>\n",
       "    <tr>\n",
       "      <th>0</th>\n",
       "      <td>0.000</td>\n",
       "      <td>49.7534</td>\n",
       "      <td>23.7184</td>\n",
       "      <td>233.2737</td>\n",
       "      <td>0.8993</td>\n",
       "      <td>NaN</td>\n",
       "      <td>NaN</td>\n",
       "      <td>1.1493</td>\n",
       "      <td>NaN</td>\n",
       "      <td>NaN</td>\n",
       "      <td>1.9148</td>\n",
       "      <td>3.4651</td>\n",
       "      <td>5.2144</td>\n",
       "    </tr>\n",
       "    <tr>\n",
       "      <th>1</th>\n",
       "      <td>0.309</td>\n",
       "      <td>55.8400</td>\n",
       "      <td>26.6200</td>\n",
       "      <td>241.6323</td>\n",
       "      <td>0.2112</td>\n",
       "      <td>2.1314</td>\n",
       "      <td>5.3552</td>\n",
       "      <td>9.7569</td>\n",
       "      <td>6.3188</td>\n",
       "      <td>16.1902</td>\n",
       "      <td>24.2780</td>\n",
       "      <td>31.1014</td>\n",
       "      <td>34.7193</td>\n",
       "    </tr>\n",
       "    <tr>\n",
       "      <th>2</th>\n",
       "      <td>0.618</td>\n",
       "      <td>55.8400</td>\n",
       "      <td>26.6200</td>\n",
       "      <td>241.3888</td>\n",
       "      <td>0.2070</td>\n",
       "      <td>10.5318</td>\n",
       "      <td>22.5612</td>\n",
       "      <td>37.2635</td>\n",
       "      <td>17.7848</td>\n",
       "      <td>31.7533</td>\n",
       "      <td>57.7289</td>\n",
       "      <td>53.6275</td>\n",
       "      <td>56.9212</td>\n",
       "    </tr>\n",
       "    <tr>\n",
       "      <th>3</th>\n",
       "      <td>0.926</td>\n",
       "      <td>55.8400</td>\n",
       "      <td>26.6200</td>\n",
       "      <td>241.1461</td>\n",
       "      <td>0.2042</td>\n",
       "      <td>29.5749</td>\n",
       "      <td>NaN</td>\n",
       "      <td>NaN</td>\n",
       "      <td>NaN</td>\n",
       "      <td>NaN</td>\n",
       "      <td>66.0832</td>\n",
       "      <td>66.8349</td>\n",
       "      <td>NaN</td>\n",
       "    </tr>\n",
       "    <tr>\n",
       "      <th>4</th>\n",
       "      <td>1.234</td>\n",
       "      <td>NaN</td>\n",
       "      <td>NaN</td>\n",
       "      <td>NaN</td>\n",
       "      <td>0.2030</td>\n",
       "      <td>49.5111</td>\n",
       "      <td>67.0368</td>\n",
       "      <td>77.8317</td>\n",
       "      <td>27.9625</td>\n",
       "      <td>NaN</td>\n",
       "      <td>68.1441</td>\n",
       "      <td>62.0947</td>\n",
       "      <td>49.4614</td>\n",
       "    </tr>\n",
       "  </tbody>\n",
       "</table>\n",
       "</div>"
      ],
      "text/plain": [
       "   Time (s)  Humidity (%r.h.)  Temperature (C)  Flow rate (mL/min)  \\\n",
       "0     0.000           49.7534          23.7184            233.2737   \n",
       "1     0.309           55.8400          26.6200            241.6323   \n",
       "2     0.618           55.8400          26.6200            241.3888   \n",
       "3     0.926           55.8400          26.6200            241.1461   \n",
       "4     1.234               NaN              NaN                 NaN   \n",
       "\n",
       "   Heater voltage (V)  R1 (MOhm)  R2 (MOhm)  R3 (MOhm)  R4 (MOhm)  R9 (MOhm)  \\\n",
       "0              0.8993        NaN        NaN     1.1493        NaN        NaN   \n",
       "1              0.2112     2.1314     5.3552     9.7569     6.3188    16.1902   \n",
       "2              0.2070    10.5318    22.5612    37.2635    17.7848    31.7533   \n",
       "3              0.2042    29.5749        NaN        NaN        NaN        NaN   \n",
       "4              0.2030    49.5111    67.0368    77.8317    27.9625        NaN   \n",
       "\n",
       "   R10 (MOhm)  R11 (MOhm)  R12 (MOhm)  \n",
       "0      1.9148      3.4651      5.2144  \n",
       "1     24.2780     31.1014     34.7193  \n",
       "2     57.7289     53.6275     56.9212  \n",
       "3     66.0832     66.8349         NaN  \n",
       "4     68.1441     62.0947     49.4614  "
      ]
     },
     "execution_count": 8,
     "metadata": {},
     "output_type": "execute_result"
    }
   ],
   "source": [
    "x.head()"
   ]
  },
  {
   "cell_type": "code",
   "execution_count": 9,
   "id": "7a03329e",
   "metadata": {},
   "outputs": [],
   "source": [
    "X_train, X_test, Y_train, Y_test= train_test_split(x,y,test_size=0.2,random_state=33)"
   ]
  },
  {
   "cell_type": "code",
   "execution_count": 10,
   "id": "035318fb",
   "metadata": {},
   "outputs": [],
   "source": [
    "X_missing_col=df.columns[df.isna().any()].tolist()"
   ]
  },
  {
   "cell_type": "code",
   "execution_count": 11,
   "id": "e2953d9e",
   "metadata": {},
   "outputs": [],
   "source": [
    "from sklearn.impute import SimpleImputer\n",
    "\n",
    "simple_imputer=SimpleImputer(strategy='mean')\n",
    "X_rev_train=pd.DataFrame(simple_imputer.fit_transform(X_train))\n",
    "X_rev_test=pd.DataFrame(simple_imputer.transform(X_test))\n",
    "\n",
    "X_rev_train.columns=X_train.columns\n",
    "X_rev_test.columns=X_test.columns"
   ]
  },
  {
   "cell_type": "code",
   "execution_count": 12,
   "id": "0a40ab1d",
   "metadata": {},
   "outputs": [
    {
     "data": {
      "text/plain": [
       "Index(['Time (s)', 'Humidity (%r.h.)', 'Temperature (C)', 'Flow rate (mL/min)',\n",
       "       'Heater voltage (V)', 'R1 (MOhm)', 'R2 (MOhm)', 'R3 (MOhm)',\n",
       "       'R4 (MOhm)', 'R9 (MOhm)', 'R10 (MOhm)', 'R11 (MOhm)', 'R12 (MOhm)'],\n",
       "      dtype='object')"
      ]
     },
     "execution_count": 12,
     "metadata": {},
     "output_type": "execute_result"
    }
   ],
   "source": [
    "X_rev_test.columns"
   ]
  },
  {
   "cell_type": "code",
   "execution_count": null,
   "id": "e2abb602",
   "metadata": {},
   "outputs": [],
   "source": [
    "mod=RandomForestRegressor(n_estimators=40, random_state=1)\n",
    "mod.fit(X_rev_train,Y_train)\n",
    "y_pred=mod.predict(X_rev_test)\n",
    "val=mse(y_pred,Y_test)"
   ]
  },
  {
   "cell_type": "code",
   "execution_count": null,
   "id": "06bc810a",
   "metadata": {},
   "outputs": [],
   "source": [
    "print(val)"
   ]
  },
  {
   "cell_type": "code",
   "execution_count": null,
   "id": "6b5d1db5",
   "metadata": {},
   "outputs": [],
   "source": [
    "mod.score(X_rev_train,Y_train)"
   ]
  },
  {
   "cell_type": "code",
   "execution_count": null,
   "id": "c78b025d",
   "metadata": {},
   "outputs": [],
   "source": [
    "test_df=pd.read_csv(r\"C:\\Users\\Asit Singh\\OneDrive\\Documents\\CS\\ML\\event datasets\\event datasets\\testing set.csv\")"
   ]
  },
  {
   "cell_type": "code",
   "execution_count": null,
   "id": "c8a63978",
   "metadata": {},
   "outputs": [],
   "source": [
    "test_col=[col for col in test_df.columns\n",
    "         if col not in X_rev_train.columns]\n",
    "test_col"
   ]
  },
  {
   "cell_type": "code",
   "execution_count": null,
   "id": "f2d6fe40",
   "metadata": {},
   "outputs": [],
   "source": [
    "test_df.drop(test_col,axis=1,inplace=True)\n",
    "test_df.head()"
   ]
  },
  {
   "cell_type": "code",
   "execution_count": null,
   "id": "1371529b",
   "metadata": {},
   "outputs": [],
   "source": [
    "final_df = pd.DataFrame(columns=X_rev_train.columns)\n",
    "for col in X_rev_train.columns:\n",
    "    final_df[col]=test_df[col]"
   ]
  },
  {
   "cell_type": "code",
   "execution_count": null,
   "id": "47259963",
   "metadata": {},
   "outputs": [],
   "source": [
    "X_rev_train.columns"
   ]
  },
  {
   "cell_type": "code",
   "execution_count": null,
   "id": "1d5eeaec",
   "metadata": {},
   "outputs": [],
   "source": [
    "l=final_df.columns"
   ]
  },
  {
   "cell_type": "code",
   "execution_count": null,
   "id": "0a83ff20",
   "metadata": {},
   "outputs": [],
   "source": [
    "final_df=pd.DataFrame(simple_imputer.transform(final_df))\n",
    "final_df.columns=l"
   ]
  },
  {
   "cell_type": "code",
   "execution_count": null,
   "id": "2e85884b",
   "metadata": {},
   "outputs": [],
   "source": [
    "y_final=mod.predict(final_df)\n",
    "y_final"
   ]
  },
  {
   "cell_type": "code",
   "execution_count": null,
   "id": "e382cca1",
   "metadata": {},
   "outputs": [],
   "source": [
    "test=pd.DataFrame(y_final)\n",
    "test.columns=[\"CO (ppm)\"]"
   ]
  },
  {
   "cell_type": "code",
   "execution_count": null,
   "id": "d5bcc5b7",
   "metadata": {},
   "outputs": [],
   "source": [
    "test.to_csv(\"data3.csv\",index=False)"
   ]
  },
  {
   "cell_type": "code",
   "execution_count": null,
   "id": "aaf9c497",
   "metadata": {},
   "outputs": [],
   "source": []
  }
 ],
 "metadata": {
  "kernelspec": {
   "display_name": "Python 3 (ipykernel)",
   "language": "python",
   "name": "python3"
  },
  "language_info": {
   "codemirror_mode": {
    "name": "ipython",
    "version": 3
   },
   "file_extension": ".py",
   "mimetype": "text/x-python",
   "name": "python",
   "nbconvert_exporter": "python",
   "pygments_lexer": "ipython3",
   "version": "3.9.7"
  }
 },
 "nbformat": 4,
 "nbformat_minor": 5
}
